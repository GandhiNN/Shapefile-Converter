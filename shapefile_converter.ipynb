{
 "cells": [
  {
   "cell_type": "markdown",
   "metadata": {},
   "source": [
    "## Shapefile Converter\n",
    "A tool to convert Telkomsel's shapefile into GeoJSON format.    \n",
    "\n",
    "**Writer** : ngakan.gandhi@dsanalytics.com  \n",
    "**License** : MIT License."
   ]
  },
  {
   "cell_type": "code",
   "execution_count": 1,
   "metadata": {},
   "outputs": [],
   "source": [
    "# Import modules\n",
    "import pandas as pd\n",
    "import geopandas as gpd\n",
    "import shapely\n",
    "from pathlib import Path"
   ]
  },
  {
   "cell_type": "code",
   "execution_count": 2,
   "metadata": {},
   "outputs": [],
   "source": [
    "# Set the path towards our data directory\n",
    "data_dir = str(Path.cwd()) + '/PETA_V21'\n",
    "out_dir = str(Path.cwd()) + '/results'"
   ]
  },
  {
   "cell_type": "code",
   "execution_count": 3,
   "metadata": {},
   "outputs": [],
   "source": [
    "def load_shapefile_into_geojson(shp_in, geojson_out):\n",
    "    \"\"\"Load the .shp file and return as\n",
    "    a GeoJSON file.\n",
    "    \"\"\"\n",
    "    gdf = gpd.read_file(shp_in)\n",
    "    gdf.to_file(geojson_out, driver='GeoJSON')"
   ]
  },
  {
   "cell_type": "code",
   "execution_count": null,
   "metadata": {},
   "outputs": [],
   "source": [
    "# Set shp_in and geojson_out\n",
    "shp_in = data_dir + '/BTS_DESA_NASIONAL_V21_0.shp'\n",
    "geojson_out = out_dir + '/BTS_DESA_NASIONAL_V21_0.json'\n",
    "\n",
    "load_shapefile_into_geojson(shp_in, geojson_out)"
   ]
  },
  {
   "cell_type": "code",
   "execution_count": null,
   "metadata": {},
   "outputs": [],
   "source": []
  }
 ],
 "metadata": {
  "kernelspec": {
   "display_name": "Python 3",
   "language": "python",
   "name": "python3"
  },
  "language_info": {
   "codemirror_mode": {
    "name": "ipython",
    "version": 3
   },
   "file_extension": ".py",
   "mimetype": "text/x-python",
   "name": "python",
   "nbconvert_exporter": "python",
   "pygments_lexer": "ipython3",
   "version": "3.7.5"
  }
 },
 "nbformat": 4,
 "nbformat_minor": 2
}
