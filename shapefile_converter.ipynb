{
 "cells": [
  {
   "cell_type": "markdown",
   "metadata": {},
   "source": [
    "## Shapefile Converter\n",
    "A tool to convert Telkomsel's shapefile into GeoJSON format.    \n",
    "\n",
    "**Writer** : ngakan.gandhi@dsanalytics.com  \n",
    "**License** : MIT License."
   ]
  },
  {
   "cell_type": "code",
   "execution_count": 1,
   "metadata": {},
   "outputs": [],
   "source": [
    "# Import modules\n",
    "import geopandas as gpd\n",
    "import json \n",
    "import pandas as pd\n",
    "import shapely\n",
    "from pathlib import Path"
   ]
  },
  {
   "cell_type": "code",
   "execution_count": 2,
   "metadata": {},
   "outputs": [],
   "source": [
    "# Set the path towards our data directory\n",
    "data_dir = str(Path.cwd()) + '/PETA_V21'\n",
    "out_dir = str(Path.cwd()) + '/results'"
   ]
  },
  {
   "cell_type": "code",
   "execution_count": 3,
   "metadata": {},
   "outputs": [],
   "source": [
    "def load_shapefile_into_geodataframe(shp_in):\n",
    "    \"\"\"Load the .shp file and return a GeoDataFrame\"\"\"\n",
    "    print(\"Reading shapefile input...\")\n",
    "    return gpd.read_file(shp_in)"
   ]
  },
  {
   "cell_type": "code",
   "execution_count": 4,
   "metadata": {},
   "outputs": [],
   "source": [
    "def subset_geodataframe(geodataframe, list_of_cols_to_keep):\n",
    "    \"\"\"Only keep columns of a Geodataframe as we specify\"\"\"\n",
    "    gdf = geodataframe[list_of_cols_to_keep]\n",
    "    return gdf"
   ]
  },
  {
   "cell_type": "code",
   "execution_count": 5,
   "metadata": {},
   "outputs": [],
   "source": [
    "def rename_geodataframe_columns(geodataframe, col_name_new):\n",
    "    \"\"\"Rename geodataframe column names as we specify.\n",
    "    But keep 'geometry' as is.\"\"\"\n",
    "    col_name_orig = list(geodataframe.columns)\n",
    "    col_name_dict = dict(zip(col_name_orig, col_name_new))\n",
    "    gdf.rename(columns=col_name_dict, inplace=True)\n",
    "    return gdf"
   ]
  },
  {
   "cell_type": "code",
   "execution_count": 6,
   "metadata": {},
   "outputs": [],
   "source": [
    "def create_gdf_hierarchy(geodataframe):\n",
    "    \"\"\"Construct a new column 'hierarchy' representing\n",
    "    the structure used in Dataspark's GeoJSON\"\"\" \n",
    "    def create_hierarchy(row):\n",
    "        dict_container = [{'id': row.ID_DESA, 'level': 'kelurahan', 'name': row.DESA},\n",
    "                          {'id': row.ID_KEC, 'level': 'kecamatan', 'name': row.KECAMATAN},\n",
    "                          {'id': row.ID_KAB, 'level': 'kabupaten', 'name': row.KABUPATEN},\n",
    "                          {'id': row.ID_PROV, 'level': 'province', 'name': row.PROVINSI}]\n",
    "        return pd.Series(str(dict_container))\n",
    "    geodataframe['hierarchy'] = geodataframe.apply(lambda row: create_hierarchy(row), axis=1)\n",
    "    return geodataframe"
   ]
  },
  {
   "cell_type": "code",
   "execution_count": 7,
   "metadata": {},
   "outputs": [],
   "source": [
    "def slice_geodataframe(geodataframe, start_idx, end_idx):\n",
    "    \"\"\"Slice a geodataframe to return a smaller set of it\"\"\"\n",
    "    print(\"Sliced GeoDataFrame has length of : {}\".format(len(geodataframe[start_idx:end_idx])))\n",
    "    gdf = geodataframe[start_idx:end_idx]\n",
    "    gdf.crs = None\n",
    "    return gdf"
   ]
  },
  {
   "cell_type": "code",
   "execution_count": 8,
   "metadata": {},
   "outputs": [],
   "source": [
    "def write_geodataframe_into_geojson(geodataframe, geojson_path):\n",
    "    \"\"\"Write the geodataframe file as a GeoJSON file.\"\"\"\n",
    "    print(\"Writing GeoDataFrame to GeoJSON...\")\n",
    "    # unset CRS\n",
    "    geodataframe.crs = None\n",
    "    geodataframe = geodataframe[['geometry','hierarchy']]\n",
    "    geodataframe.to_file(geojson_path, driver='GeoJSON')\n",
    "    print(\"Done writing shapefile input to GeoJSON!\")"
   ]
  },
  {
   "cell_type": "code",
   "execution_count": 9,
   "metadata": {},
   "outputs": [],
   "source": [
    "def get_geodataframe_row_from_id_desa(geodataframe, id_desa):\n",
    "    \"\"\"Return the index of the row containing specified ID_DESA\"\"\"\n",
    "    row_idx = geodataframe.index[geodataframe['ID_DESA'] == str(id_desa)].tolist()\n",
    "    return row_idx"
   ]
  },
  {
   "cell_type": "code",
   "execution_count": 10,
   "metadata": {},
   "outputs": [],
   "source": [
    "def json_neater(raw_geojson_in, neat_geojson_out):\n",
    "    \"\"\"Indentise the GeoJSON converted by load_shapefile_into_geojson()\"\"\"\n",
    "    print(\"Loading raw GeoJSON file...\")\n",
    "    with open(raw_geojson_in, encoding='utf-8', errors='ignore') as json_data:\n",
    "        data = json.load(json_data, strict=False)\n",
    "        with open(neat_geojson_out, 'w') as outfile:\n",
    "            json.dump(data, outfile, indent=4)\n",
    "    print(\"Done prettify GeoJSON!\")"
   ]
  },
  {
   "cell_type": "code",
   "execution_count": 11,
   "metadata": {},
   "outputs": [],
   "source": [
    "# Set shp_in, geojson, final json path\n",
    "shp_in = data_dir + '/BTS_DESA_NASIONAL_V21_0.shp'\n",
    "geojson_path = out_dir + '/BTS_DESA_NASIONAL_V21_0.json'\n",
    "final_json = out_dir + '/BTS_DESA_NASIONAL_V21_0_PRETTY.json'"
   ]
  },
  {
   "cell_type": "code",
   "execution_count": 12,
   "metadata": {},
   "outputs": [
    {
     "name": "stdout",
     "output_type": "stream",
     "text": [
      "Reading shapefile input...\n"
     ]
    },
    {
     "data": {
      "text/html": [
       "<div>\n",
       "<style scoped>\n",
       "    .dataframe tbody tr th:only-of-type {\n",
       "        vertical-align: middle;\n",
       "    }\n",
       "\n",
       "    .dataframe tbody tr th {\n",
       "        vertical-align: top;\n",
       "    }\n",
       "\n",
       "    .dataframe thead th {\n",
       "        text-align: right;\n",
       "    }\n",
       "</style>\n",
       "<table border=\"1\" class=\"dataframe\">\n",
       "  <thead>\n",
       "    <tr style=\"text-align: right;\">\n",
       "      <th></th>\n",
       "      <th>ID_DESA</th>\n",
       "      <th>DESA</th>\n",
       "      <th>ID_KEC</th>\n",
       "      <th>KECAMATAN</th>\n",
       "      <th>ID_KAB</th>\n",
       "      <th>KABUPATEN</th>\n",
       "      <th>ID_PROV</th>\n",
       "      <th>PROVINSI</th>\n",
       "      <th>ID_REG</th>\n",
       "      <th>REGION</th>\n",
       "      <th>...</th>\n",
       "      <th>ID_BRANCH</th>\n",
       "      <th>BRANCH</th>\n",
       "      <th>ID_SUBBRAN</th>\n",
       "      <th>SUBBRANCH</th>\n",
       "      <th>ID_CLUSTER</th>\n",
       "      <th>CLUSTER</th>\n",
       "      <th>MITRA_AD</th>\n",
       "      <th>LONGITUDE</th>\n",
       "      <th>LATITUDE</th>\n",
       "      <th>geometry</th>\n",
       "    </tr>\n",
       "  </thead>\n",
       "  <tbody>\n",
       "    <tr>\n",
       "      <th>0</th>\n",
       "      <td>1101010001</td>\n",
       "      <td>LATIUNG</td>\n",
       "      <td>1101010</td>\n",
       "      <td>TEUPAH SELATAN</td>\n",
       "      <td>1101</td>\n",
       "      <td>SIMEULUE</td>\n",
       "      <td>11</td>\n",
       "      <td>NANGGROE ACEH DARUSSALAM</td>\n",
       "      <td>1</td>\n",
       "      <td>SUMBAGUT</td>\n",
       "      <td>...</td>\n",
       "      <td>50</td>\n",
       "      <td>BANDA ACEH</td>\n",
       "      <td>105</td>\n",
       "      <td>MEULABOH</td>\n",
       "      <td>113</td>\n",
       "      <td>MEULABOH</td>\n",
       "      <td>None</td>\n",
       "      <td>96.4556</td>\n",
       "      <td>2.37651</td>\n",
       "      <td>POLYGON ((96.48015 2.34382, 96.47920 2.34325, ...</td>\n",
       "    </tr>\n",
       "    <tr>\n",
       "      <th>1</th>\n",
       "      <td>1101010002</td>\n",
       "      <td>LABUHAN BAJAU</td>\n",
       "      <td>1101010</td>\n",
       "      <td>TEUPAH SELATAN</td>\n",
       "      <td>1101</td>\n",
       "      <td>SIMEULUE</td>\n",
       "      <td>11</td>\n",
       "      <td>NANGGROE ACEH DARUSSALAM</td>\n",
       "      <td>1</td>\n",
       "      <td>SUMBAGUT</td>\n",
       "      <td>...</td>\n",
       "      <td>50</td>\n",
       "      <td>BANDA ACEH</td>\n",
       "      <td>105</td>\n",
       "      <td>MEULABOH</td>\n",
       "      <td>113</td>\n",
       "      <td>MEULABOH</td>\n",
       "      <td>None</td>\n",
       "      <td>96.4729</td>\n",
       "      <td>2.39231</td>\n",
       "      <td>POLYGON ((96.49244 2.38675, 96.49196 2.38556, ...</td>\n",
       "    </tr>\n",
       "  </tbody>\n",
       "</table>\n",
       "<p>2 rows × 24 columns</p>\n",
       "</div>"
      ],
      "text/plain": [
       "      ID_DESA           DESA   ID_KEC       KECAMATAN ID_KAB KABUPATEN  \\\n",
       "0  1101010001        LATIUNG  1101010  TEUPAH SELATAN   1101  SIMEULUE   \n",
       "1  1101010002  LABUHAN BAJAU  1101010  TEUPAH SELATAN   1101  SIMEULUE   \n",
       "\n",
       "  ID_PROV                  PROVINSI ID_REG    REGION  ... ID_BRANCH  \\\n",
       "0      11  NANGGROE ACEH DARUSSALAM      1  SUMBAGUT  ...        50   \n",
       "1      11  NANGGROE ACEH DARUSSALAM      1  SUMBAGUT  ...        50   \n",
       "\n",
       "       BRANCH ID_SUBBRAN SUBBRANCH ID_CLUSTER   CLUSTER MITRA_AD LONGITUDE  \\\n",
       "0  BANDA ACEH        105  MEULABOH        113  MEULABOH     None   96.4556   \n",
       "1  BANDA ACEH        105  MEULABOH        113  MEULABOH     None   96.4729   \n",
       "\n",
       "  LATITUDE                                           geometry  \n",
       "0  2.37651  POLYGON ((96.48015 2.34382, 96.47920 2.34325, ...  \n",
       "1  2.39231  POLYGON ((96.49244 2.38675, 96.49196 2.38556, ...  \n",
       "\n",
       "[2 rows x 24 columns]"
      ]
     },
     "execution_count": 12,
     "metadata": {},
     "output_type": "execute_result"
    }
   ],
   "source": [
    "# Read the GeoDataFrame\n",
    "gdf = load_shapefile_into_geodataframe(shp_in)\n",
    "\n",
    "gdf.head(2)"
   ]
  },
  {
   "cell_type": "code",
   "execution_count": 13,
   "metadata": {},
   "outputs": [
    {
     "data": {
      "text/html": [
       "<div>\n",
       "<style scoped>\n",
       "    .dataframe tbody tr th:only-of-type {\n",
       "        vertical-align: middle;\n",
       "    }\n",
       "\n",
       "    .dataframe tbody tr th {\n",
       "        vertical-align: top;\n",
       "    }\n",
       "\n",
       "    .dataframe thead th {\n",
       "        text-align: right;\n",
       "    }\n",
       "</style>\n",
       "<table border=\"1\" class=\"dataframe\">\n",
       "  <thead>\n",
       "    <tr style=\"text-align: right;\">\n",
       "      <th></th>\n",
       "      <th>ID_DESA</th>\n",
       "      <th>DESA</th>\n",
       "      <th>ID_KEC</th>\n",
       "      <th>KECAMATAN</th>\n",
       "      <th>ID_KAB</th>\n",
       "      <th>KABUPATEN</th>\n",
       "      <th>ID_PROV</th>\n",
       "      <th>PROVINSI</th>\n",
       "      <th>ID_REG</th>\n",
       "      <th>REGION</th>\n",
       "      <th>...</th>\n",
       "      <th>BRANCH</th>\n",
       "      <th>ID_SUBBRAN</th>\n",
       "      <th>SUBBRANCH</th>\n",
       "      <th>ID_CLUSTER</th>\n",
       "      <th>CLUSTER</th>\n",
       "      <th>MITRA_AD</th>\n",
       "      <th>LONGITUDE</th>\n",
       "      <th>LATITUDE</th>\n",
       "      <th>geometry</th>\n",
       "      <th>hierarchy</th>\n",
       "    </tr>\n",
       "  </thead>\n",
       "  <tbody>\n",
       "    <tr>\n",
       "      <th>0</th>\n",
       "      <td>1101010001</td>\n",
       "      <td>LATIUNG</td>\n",
       "      <td>1101010</td>\n",
       "      <td>TEUPAH SELATAN</td>\n",
       "      <td>1101</td>\n",
       "      <td>SIMEULUE</td>\n",
       "      <td>11</td>\n",
       "      <td>NANGGROE ACEH DARUSSALAM</td>\n",
       "      <td>1</td>\n",
       "      <td>SUMBAGUT</td>\n",
       "      <td>...</td>\n",
       "      <td>BANDA ACEH</td>\n",
       "      <td>105</td>\n",
       "      <td>MEULABOH</td>\n",
       "      <td>113</td>\n",
       "      <td>MEULABOH</td>\n",
       "      <td>None</td>\n",
       "      <td>96.4556</td>\n",
       "      <td>2.37651</td>\n",
       "      <td>POLYGON ((96.48015 2.34382, 96.47920 2.34325, ...</td>\n",
       "      <td>[{'id': '1101010001', 'level': 'kelurahan', 'n...</td>\n",
       "    </tr>\n",
       "    <tr>\n",
       "      <th>1</th>\n",
       "      <td>1101010002</td>\n",
       "      <td>LABUHAN BAJAU</td>\n",
       "      <td>1101010</td>\n",
       "      <td>TEUPAH SELATAN</td>\n",
       "      <td>1101</td>\n",
       "      <td>SIMEULUE</td>\n",
       "      <td>11</td>\n",
       "      <td>NANGGROE ACEH DARUSSALAM</td>\n",
       "      <td>1</td>\n",
       "      <td>SUMBAGUT</td>\n",
       "      <td>...</td>\n",
       "      <td>BANDA ACEH</td>\n",
       "      <td>105</td>\n",
       "      <td>MEULABOH</td>\n",
       "      <td>113</td>\n",
       "      <td>MEULABOH</td>\n",
       "      <td>None</td>\n",
       "      <td>96.4729</td>\n",
       "      <td>2.39231</td>\n",
       "      <td>POLYGON ((96.49244 2.38675, 96.49196 2.38556, ...</td>\n",
       "      <td>[{'id': '1101010002', 'level': 'kelurahan', 'n...</td>\n",
       "    </tr>\n",
       "  </tbody>\n",
       "</table>\n",
       "<p>2 rows × 25 columns</p>\n",
       "</div>"
      ],
      "text/plain": [
       "      ID_DESA           DESA   ID_KEC       KECAMATAN ID_KAB KABUPATEN  \\\n",
       "0  1101010001        LATIUNG  1101010  TEUPAH SELATAN   1101  SIMEULUE   \n",
       "1  1101010002  LABUHAN BAJAU  1101010  TEUPAH SELATAN   1101  SIMEULUE   \n",
       "\n",
       "  ID_PROV                  PROVINSI ID_REG    REGION  ...      BRANCH  \\\n",
       "0      11  NANGGROE ACEH DARUSSALAM      1  SUMBAGUT  ...  BANDA ACEH   \n",
       "1      11  NANGGROE ACEH DARUSSALAM      1  SUMBAGUT  ...  BANDA ACEH   \n",
       "\n",
       "  ID_SUBBRAN SUBBRANCH ID_CLUSTER   CLUSTER MITRA_AD LONGITUDE LATITUDE  \\\n",
       "0        105  MEULABOH        113  MEULABOH     None   96.4556  2.37651   \n",
       "1        105  MEULABOH        113  MEULABOH     None   96.4729  2.39231   \n",
       "\n",
       "                                            geometry  \\\n",
       "0  POLYGON ((96.48015 2.34382, 96.47920 2.34325, ...   \n",
       "1  POLYGON ((96.49244 2.38675, 96.49196 2.38556, ...   \n",
       "\n",
       "                                           hierarchy  \n",
       "0  [{'id': '1101010001', 'level': 'kelurahan', 'n...  \n",
       "1  [{'id': '1101010002', 'level': 'kelurahan', 'n...  \n",
       "\n",
       "[2 rows x 25 columns]"
      ]
     },
     "execution_count": 13,
     "metadata": {},
     "output_type": "execute_result"
    }
   ],
   "source": [
    "# Create a 'hierarchy' column\n",
    "gdf = create_gdf_hierarchy(gdf)\n",
    "\n",
    "gdf.head(2)"
   ]
  },
  {
   "cell_type": "code",
   "execution_count": 14,
   "metadata": {},
   "outputs": [
    {
     "data": {
      "text/html": [
       "<div>\n",
       "<style scoped>\n",
       "    .dataframe tbody tr th:only-of-type {\n",
       "        vertical-align: middle;\n",
       "    }\n",
       "\n",
       "    .dataframe tbody tr th {\n",
       "        vertical-align: top;\n",
       "    }\n",
       "\n",
       "    .dataframe thead th {\n",
       "        text-align: right;\n",
       "    }\n",
       "</style>\n",
       "<table border=\"1\" class=\"dataframe\">\n",
       "  <thead>\n",
       "    <tr style=\"text-align: right;\">\n",
       "      <th></th>\n",
       "      <th>hierarchy</th>\n",
       "      <th>geometry</th>\n",
       "      <th>ID_DESA</th>\n",
       "    </tr>\n",
       "  </thead>\n",
       "  <tbody>\n",
       "    <tr>\n",
       "      <th>0</th>\n",
       "      <td>[{'id': '1101010001', 'level': 'kelurahan', 'n...</td>\n",
       "      <td>POLYGON ((96.48015 2.34382, 96.47920 2.34325, ...</td>\n",
       "      <td>1101010001</td>\n",
       "    </tr>\n",
       "    <tr>\n",
       "      <th>1</th>\n",
       "      <td>[{'id': '1101010002', 'level': 'kelurahan', 'n...</td>\n",
       "      <td>POLYGON ((96.49244 2.38675, 96.49196 2.38556, ...</td>\n",
       "      <td>1101010002</td>\n",
       "    </tr>\n",
       "  </tbody>\n",
       "</table>\n",
       "</div>"
      ],
      "text/plain": [
       "                                           hierarchy  \\\n",
       "0  [{'id': '1101010001', 'level': 'kelurahan', 'n...   \n",
       "1  [{'id': '1101010002', 'level': 'kelurahan', 'n...   \n",
       "\n",
       "                                            geometry     ID_DESA  \n",
       "0  POLYGON ((96.48015 2.34382, 96.47920 2.34325, ...  1101010001  \n",
       "1  POLYGON ((96.49244 2.38675, 96.49196 2.38556, ...  1101010002  "
      ]
     },
     "execution_count": 14,
     "metadata": {},
     "output_type": "execute_result"
    }
   ],
   "source": [
    "# Filter columns\n",
    "cols_to_keep = ['hierarchy', 'geometry', 'ID_DESA']\n",
    "gdf = subset_geodataframe(gdf, cols_to_keep)\n",
    "\n",
    "gdf.head(2)"
   ]
  },
  {
   "cell_type": "code",
   "execution_count": 15,
   "metadata": {},
   "outputs": [
    {
     "name": "stdout",
     "output_type": "stream",
     "text": [
      "Sliced GeoDataFrame has length of : 50\n"
     ]
    },
    {
     "data": {
      "text/html": [
       "<div>\n",
       "<style scoped>\n",
       "    .dataframe tbody tr th:only-of-type {\n",
       "        vertical-align: middle;\n",
       "    }\n",
       "\n",
       "    .dataframe tbody tr th {\n",
       "        vertical-align: top;\n",
       "    }\n",
       "\n",
       "    .dataframe thead th {\n",
       "        text-align: right;\n",
       "    }\n",
       "</style>\n",
       "<table border=\"1\" class=\"dataframe\">\n",
       "  <thead>\n",
       "    <tr style=\"text-align: right;\">\n",
       "      <th></th>\n",
       "      <th>hierarchy</th>\n",
       "      <th>geometry</th>\n",
       "      <th>ID_DESA</th>\n",
       "    </tr>\n",
       "  </thead>\n",
       "  <tbody>\n",
       "    <tr>\n",
       "      <th>0</th>\n",
       "      <td>[{'id': '1101010001', 'level': 'kelurahan', 'n...</td>\n",
       "      <td>POLYGON ((96.48015 2.34382, 96.47920 2.34325, ...</td>\n",
       "      <td>1101010001</td>\n",
       "    </tr>\n",
       "    <tr>\n",
       "      <th>1</th>\n",
       "      <td>[{'id': '1101010002', 'level': 'kelurahan', 'n...</td>\n",
       "      <td>POLYGON ((96.49244 2.38675, 96.49196 2.38556, ...</td>\n",
       "      <td>1101010002</td>\n",
       "    </tr>\n",
       "    <tr>\n",
       "      <th>2</th>\n",
       "      <td>[{'id': '1101010003', 'level': 'kelurahan', 'n...</td>\n",
       "      <td>POLYGON ((96.37330 2.34174, 96.37327 2.34161, ...</td>\n",
       "      <td>1101010003</td>\n",
       "    </tr>\n",
       "    <tr>\n",
       "      <th>3</th>\n",
       "      <td>[{'id': '1101010004', 'level': 'kelurahan', 'n...</td>\n",
       "      <td>POLYGON ((96.47211 2.43549, 96.47207 2.43430, ...</td>\n",
       "      <td>1101010004</td>\n",
       "    </tr>\n",
       "    <tr>\n",
       "      <th>4</th>\n",
       "      <td>[{'id': '1101010005', 'level': 'kelurahan', 'n...</td>\n",
       "      <td>POLYGON ((96.47117 2.44948, 96.46327 2.44910, ...</td>\n",
       "      <td>1101010005</td>\n",
       "    </tr>\n",
       "  </tbody>\n",
       "</table>\n",
       "</div>"
      ],
      "text/plain": [
       "                                           hierarchy  \\\n",
       "0  [{'id': '1101010001', 'level': 'kelurahan', 'n...   \n",
       "1  [{'id': '1101010002', 'level': 'kelurahan', 'n...   \n",
       "2  [{'id': '1101010003', 'level': 'kelurahan', 'n...   \n",
       "3  [{'id': '1101010004', 'level': 'kelurahan', 'n...   \n",
       "4  [{'id': '1101010005', 'level': 'kelurahan', 'n...   \n",
       "\n",
       "                                            geometry     ID_DESA  \n",
       "0  POLYGON ((96.48015 2.34382, 96.47920 2.34325, ...  1101010001  \n",
       "1  POLYGON ((96.49244 2.38675, 96.49196 2.38556, ...  1101010002  \n",
       "2  POLYGON ((96.37330 2.34174, 96.37327 2.34161, ...  1101010003  \n",
       "3  POLYGON ((96.47211 2.43549, 96.47207 2.43430, ...  1101010004  \n",
       "4  POLYGON ((96.47117 2.44948, 96.46327 2.44910, ...  1101010005  "
      ]
     },
     "execution_count": 15,
     "metadata": {},
     "output_type": "execute_result"
    }
   ],
   "source": [
    "# Slice 50 geodataframe\n",
    "gdf_smaller = slice_geodataframe(gdf, 0, 50)\n",
    "\n",
    "gdf_smaller.head()"
   ]
  },
  {
   "cell_type": "code",
   "execution_count": 16,
   "metadata": {},
   "outputs": [],
   "source": [
    "# Re-set the testing path\n",
    "geojson_path = out_dir + '/BTS_DESA_NASIONAL_V21_0_smaller.json'\n",
    "final_json = out_dir + '/BTS_DESA_NASIONAL_V21_0_PRETTY_smaller.json'"
   ]
  },
  {
   "cell_type": "code",
   "execution_count": 17,
   "metadata": {},
   "outputs": [
    {
     "name": "stdout",
     "output_type": "stream",
     "text": [
      "Writing GeoDataFrame to GeoJSON...\n",
      "Done writing shapefile input to GeoJSON!\n"
     ]
    }
   ],
   "source": [
    "# Write GeoDataFrame into a GeoJSON\n",
    "write_geodataframe_into_geojson(gdf_smaller, geojson_path)"
   ]
  },
  {
   "cell_type": "code",
   "execution_count": 18,
   "metadata": {},
   "outputs": [
    {
     "name": "stdout",
     "output_type": "stream",
     "text": [
      "Loading raw GeoJSON file...\n",
      "Done prettify GeoJSON!\n"
     ]
    }
   ],
   "source": [
    "# Make the GeoJSON neater\n",
    "json_neater(geojson_path, final_json)"
   ]
  },
  {
   "cell_type": "code",
   "execution_count": 19,
   "metadata": {},
   "outputs": [
    {
     "data": {
      "text/html": [
       "<div>\n",
       "<style scoped>\n",
       "    .dataframe tbody tr th:only-of-type {\n",
       "        vertical-align: middle;\n",
       "    }\n",
       "\n",
       "    .dataframe tbody tr th {\n",
       "        vertical-align: top;\n",
       "    }\n",
       "\n",
       "    .dataframe thead th {\n",
       "        text-align: right;\n",
       "    }\n",
       "</style>\n",
       "<table border=\"1\" class=\"dataframe\">\n",
       "  <thead>\n",
       "    <tr style=\"text-align: right;\">\n",
       "      <th></th>\n",
       "      <th>hierarchy</th>\n",
       "      <th>geometry</th>\n",
       "      <th>ID_DESA</th>\n",
       "    </tr>\n",
       "  </thead>\n",
       "  <tbody>\n",
       "    <tr>\n",
       "      <th>0</th>\n",
       "      <td>[{'id': '1101010001', 'level': 'kelurahan', 'n...</td>\n",
       "      <td>POLYGON ((96.48015 2.34382, 96.47920 2.34325, ...</td>\n",
       "      <td>1101010001</td>\n",
       "    </tr>\n",
       "    <tr>\n",
       "      <th>1</th>\n",
       "      <td>[{'id': '1101010002', 'level': 'kelurahan', 'n...</td>\n",
       "      <td>POLYGON ((96.49244 2.38675, 96.49196 2.38556, ...</td>\n",
       "      <td>1101010002</td>\n",
       "    </tr>\n",
       "    <tr>\n",
       "      <th>2</th>\n",
       "      <td>[{'id': '1101010003', 'level': 'kelurahan', 'n...</td>\n",
       "      <td>POLYGON ((96.37330 2.34174, 96.37327 2.34161, ...</td>\n",
       "      <td>1101010003</td>\n",
       "    </tr>\n",
       "    <tr>\n",
       "      <th>3</th>\n",
       "      <td>[{'id': '1101010004', 'level': 'kelurahan', 'n...</td>\n",
       "      <td>POLYGON ((96.47211 2.43549, 96.47207 2.43430, ...</td>\n",
       "      <td>1101010004</td>\n",
       "    </tr>\n",
       "    <tr>\n",
       "      <th>4</th>\n",
       "      <td>[{'id': '1101010005', 'level': 'kelurahan', 'n...</td>\n",
       "      <td>POLYGON ((96.47117 2.44948, 96.46327 2.44910, ...</td>\n",
       "      <td>1101010005</td>\n",
       "    </tr>\n",
       "  </tbody>\n",
       "</table>\n",
       "</div>"
      ],
      "text/plain": [
       "                                           hierarchy  \\\n",
       "0  [{'id': '1101010001', 'level': 'kelurahan', 'n...   \n",
       "1  [{'id': '1101010002', 'level': 'kelurahan', 'n...   \n",
       "2  [{'id': '1101010003', 'level': 'kelurahan', 'n...   \n",
       "3  [{'id': '1101010004', 'level': 'kelurahan', 'n...   \n",
       "4  [{'id': '1101010005', 'level': 'kelurahan', 'n...   \n",
       "\n",
       "                                            geometry     ID_DESA  \n",
       "0  POLYGON ((96.48015 2.34382, 96.47920 2.34325, ...  1101010001  \n",
       "1  POLYGON ((96.49244 2.38675, 96.49196 2.38556, ...  1101010002  \n",
       "2  POLYGON ((96.37330 2.34174, 96.37327 2.34161, ...  1101010003  \n",
       "3  POLYGON ((96.47211 2.43549, 96.47207 2.43430, ...  1101010004  \n",
       "4  POLYGON ((96.47117 2.44948, 96.46327 2.44910, ...  1101010005  "
      ]
     },
     "execution_count": 19,
     "metadata": {},
     "output_type": "execute_result"
    }
   ],
   "source": [
    "gdf_smaller.head()"
   ]
  },
  {
   "cell_type": "code",
   "execution_count": 20,
   "metadata": {},
   "outputs": [
    {
     "name": "stdout",
     "output_type": "stream",
     "text": [
      "[4]\n"
     ]
    }
   ],
   "source": [
    "# Test the get_geodataframe_row_from_id_desa\n",
    "row_idx = get_geodataframe_row_from_id_desa(gdf_smaller, 1101010005)\n",
    "print(row_idx)"
   ]
  },
  {
   "cell_type": "code",
   "execution_count": null,
   "metadata": {},
   "outputs": [],
   "source": []
  }
 ],
 "metadata": {
  "kernelspec": {
   "display_name": "Python 3",
   "language": "python",
   "name": "python3"
  },
  "language_info": {
   "codemirror_mode": {
    "name": "ipython",
    "version": 3
   },
   "file_extension": ".py",
   "mimetype": "text/x-python",
   "name": "python",
   "nbconvert_exporter": "python",
   "pygments_lexer": "ipython3",
   "version": "3.7.5"
  }
 },
 "nbformat": 4,
 "nbformat_minor": 2
}
